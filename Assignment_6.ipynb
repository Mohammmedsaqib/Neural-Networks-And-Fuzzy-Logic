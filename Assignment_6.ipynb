{
  "nbformat": 4,
  "nbformat_minor": 0,
  "metadata": {
    "colab": {
      "provenance": [],
      "authorship_tag": "ABX9TyPaCRJvLPD60tSSPBcn/itE",
      "include_colab_link": true
    },
    "kernelspec": {
      "name": "python3",
      "display_name": "Python 3"
    },
    "language_info": {
      "name": "python"
    }
  },
  "cells": [
    {
      "cell_type": "markdown",
      "metadata": {
        "id": "view-in-github",
        "colab_type": "text"
      },
      "source": [
        "<a href=\"https://colab.research.google.com/github/Mohammmedsaqib/Neural-Networks-And-Fuzzy-Logic/blob/main/Assignment_6.ipynb\" target=\"_parent\"><img src=\"https://colab.research.google.com/assets/colab-badge.svg\" alt=\"Open In Colab\"/></a>"
      ]
    },
    {
      "cell_type": "markdown",
      "metadata": {
        "id": "a8c8a0fd"
      },
      "source": [
        "# Task\n",
        "Implement McCulloch–Pitts neurons to simulate AND, OR, and XOR gates. Show step-by-step weight and threshold adjustments. Demonstrate why XOR cannot be implemented with a single McCulloch–Pitts neuron. Extend the design using a multi-layer architecture to solve XOR."
      ]
    },
    {
      "cell_type": "markdown",
      "metadata": {
        "id": "68b2760e"
      },
      "source": [
        "## Implement a function for a single mcculloch-pitts neuron.\n",
        "\n",
        "### Subtask:\n",
        "Create a function that simulates the behavior of a single McCulloch-Pitts neuron, taking inputs and weights, calculating the weighted sum, and applying a threshold function.\n"
      ]
    },
    {
      "cell_type": "markdown",
      "metadata": {
        "id": "4485e920"
      },
      "source": [
        "**Reasoning**:\n",
        "Define the `mcculloch_pitts_neuron` function as described in the instructions, calculating the weighted sum and applying a threshold function.\n",
        "\n"
      ]
    },
    {
      "cell_type": "code",
      "metadata": {
        "id": "dbd587f2"
      },
      "source": [
        "import numpy as np\n",
        "\n",
        "def mcculloch_pitts_neuron(inputs, weights, threshold):\n",
        "  \"\"\"\n",
        "  Simulates a single McCulloch-Pitts neuron.\n",
        "\n",
        "  Args:\n",
        "    inputs: A list or array of input values.\n",
        "    weights: A list or array of corresponding weights.\n",
        "    threshold: The threshold value for the neuron.\n",
        "\n",
        "  Returns:\n",
        "    The output of the neuron (0 or 1).\n",
        "  \"\"\"\n",
        "  weighted_sum = np.dot(inputs, weights)\n",
        "  if weighted_sum >= threshold:\n",
        "    return 1\n",
        "  else:\n",
        "    return 0"
      ],
      "execution_count": null,
      "outputs": []
    },
    {
      "cell_type": "markdown",
      "metadata": {
        "id": "c11a0eec"
      },
      "source": [
        "## Implement and gate using a single neuron.\n",
        "\n",
        "### Subtask:\n",
        "Use the single neuron function to implement the logical AND gate by setting appropriate weights and threshold.\n"
      ]
    },
    {
      "cell_type": "markdown",
      "metadata": {
        "id": "2f98bdbf"
      },
      "source": [
        "**Reasoning**:\n",
        "Implement the AND gate using the previously defined `mcculloch_pitts_neuron` function by defining inputs, determining appropriate weights and threshold, and iterating through the inputs to calculate and print the outputs.\n",
        "\n"
      ]
    },
    {
      "cell_type": "code",
      "metadata": {
        "colab": {
          "base_uri": "https://localhost:8080/"
        },
        "id": "235456d7",
        "outputId": "64120624-8c35-4652-efe8-4628bcb4e121"
      },
      "source": [
        "# Define inputs for the AND gate\n",
        "and_inputs = [\n",
        "    [0, 0],\n",
        "    [0, 1],\n",
        "    [1, 0],\n",
        "    [1, 1]\n",
        "]\n",
        "\n",
        "# Determine weights and threshold for the AND gate\n",
        "# For AND, we want the output to be 1 only when both inputs are 1.\n",
        "# A possible set of weights is [1, 1] and a threshold of 2.\n",
        "# Let's check:\n",
        "# [0, 0] -> 0*1 + 0*1 = 0. 0 < 2 -> Output: 0 (Correct)\n",
        "# [0, 1] -> 0*1 + 1*1 = 1. 1 < 2 -> Output: 0 (Correct)\n",
        "# [1, 0] -> 1*1 + 0*1 = 1. 1 < 2 -> Output: 0 (Correct)\n",
        "# [1, 1] -> 1*1 + 1*1 = 2. 2 >= 2 -> Output: 1 (Correct)\n",
        "and_weights = [1, 1]\n",
        "and_threshold = 2\n",
        "\n",
        "# Iterate through inputs and calculate outputs\n",
        "print(\"AND Gate Simulation using McCulloch-Pitts Neuron:\")\n",
        "print(\"Input | Output\")\n",
        "print(\"------|-------\")\n",
        "for inputs in and_inputs:\n",
        "    output = mcculloch_pitts_neuron(inputs, and_weights, and_threshold)\n",
        "    print(f\"{inputs}  | {output}\")"
      ],
      "execution_count": null,
      "outputs": [
        {
          "output_type": "stream",
          "name": "stdout",
          "text": [
            "AND Gate Simulation using McCulloch-Pitts Neuron:\n",
            "Input | Output\n",
            "------|-------\n",
            "[0, 0]  | 0\n",
            "[0, 1]  | 0\n",
            "[1, 0]  | 0\n",
            "[1, 1]  | 1\n"
          ]
        }
      ]
    },
    {
      "cell_type": "markdown",
      "metadata": {
        "id": "e2e01653"
      },
      "source": [
        "## Implement or gate using a single neuron.\n",
        "\n",
        "### Subtask:\n",
        "Use the single neuron function to implement the logical OR gate by setting appropriate weights and threshold.\n"
      ]
    },
    {
      "cell_type": "markdown",
      "metadata": {
        "id": "79ae69e0"
      },
      "source": [
        "**Reasoning**:\n",
        "Define the inputs for the OR gate, determine the appropriate weights and threshold, and then iterate through the inputs to simulate the OR gate using the `mcculloch_pitts_neuron` function, printing the results.\n",
        "\n"
      ]
    },
    {
      "cell_type": "code",
      "metadata": {
        "colab": {
          "base_uri": "https://localhost:8080/"
        },
        "id": "f01af9ca",
        "outputId": "5b4c1b14-c03f-4abe-a84d-db1727c8a6e7"
      },
      "source": [
        "# Define inputs for the OR gate\n",
        "or_inputs = [\n",
        "    [0, 0],\n",
        "    [0, 1],\n",
        "    [1, 0],\n",
        "    [1, 1]\n",
        "]\n",
        "\n",
        "# Determine weights and threshold for the OR gate\n",
        "# For OR, we want the output to be 1 when at least one input is 1.\n",
        "# A possible set of weights is [1, 1] and a threshold of 1.\n",
        "# Let's check:\n",
        "# [0, 0] -> 0*1 + 0*1 = 0. 0 < 1 -> Output: 0 (Correct)\n",
        "# [0, 1] -> 0*1 + 1*1 = 1. 1 >= 1 -> Output: 1 (Correct)\n",
        "# [1, 0] -> 1*1 + 0*1 = 1. 1 >= 1 -> Output: 1 (Correct)\n",
        "# [1, 1] -> 1*1 + 1*1 = 2. 2 >= 1 -> Output: 1 (Correct)\n",
        "or_weights = [1, 1]\n",
        "or_threshold = 1\n",
        "\n",
        "# Iterate through inputs and calculate outputs\n",
        "print(\"OR Gate Simulation using McCulloch-Pitts Neuron:\")\n",
        "print(\"Input | Output\")\n",
        "print(\"------|-------\")\n",
        "for inputs in or_inputs:\n",
        "    output = mcculloch_pitts_neuron(inputs, or_weights, or_threshold)\n",
        "    print(f\"{inputs}  | {output}\")"
      ],
      "execution_count": null,
      "outputs": [
        {
          "output_type": "stream",
          "name": "stdout",
          "text": [
            "OR Gate Simulation using McCulloch-Pitts Neuron:\n",
            "Input | Output\n",
            "------|-------\n",
            "[0, 0]  | 0\n",
            "[0, 1]  | 1\n",
            "[1, 0]  | 1\n",
            "[1, 1]  | 1\n"
          ]
        }
      ]
    },
    {
      "cell_type": "markdown",
      "metadata": {
        "id": "9bea684c"
      },
      "source": [
        "## Demonstrate why xor cannot be implemented with a single neuron.\n",
        "\n",
        "### Subtask:\n",
        "Explain and show why a single linear boundary (which a single neuron represents) cannot separate the inputs for the XOR function into the correct output classes.\n"
      ]
    },
    {
      "cell_type": "markdown",
      "metadata": {
        "id": "44a2e79e"
      },
      "source": [
        "**Reasoning**:\n",
        "Explain why a single neuron cannot implement the XOR gate by showing the inputs and outputs, explaining the linear boundary, and demonstrating the non-linear separability.\n",
        "\n"
      ]
    },
    {
      "cell_type": "code",
      "metadata": {
        "colab": {
          "base_uri": "https://localhost:8080/",
          "height": 949
        },
        "id": "1380c6e9",
        "outputId": "69cbb731-02e7-4846-d124-222a476feb6e"
      },
      "source": [
        "import matplotlib.pyplot as plt\n",
        "\n",
        "# 1. List the inputs and corresponding expected outputs for the XOR gate\n",
        "xor_inputs = [\n",
        "    [0, 0],\n",
        "    [0, 1],\n",
        "    [1, 0],\n",
        "    [1, 1]\n",
        "]\n",
        "xor_outputs = [0, 1, 1, 0]\n",
        "\n",
        "print(\"XOR Gate Inputs and Expected Outputs:\")\n",
        "print(\"Input | Output\")\n",
        "print(\"------|-------\")\n",
        "for i in range(len(xor_inputs)):\n",
        "    print(f\"{xor_inputs[i]}  | {xor_outputs[i]}\")\n",
        "\n",
        "print(\"\\n2. Explanation: Single McCulloch-Pitts neuron creates a single linear decision boundary.\")\n",
        "print(\"A single McCulloch-Pitts neuron calculates a weighted sum of its inputs and compares it to a threshold.\")\n",
        "print(\"This can be represented mathematically as w1*x1 + w2*x2 >= threshold.\")\n",
        "print(\"This inequality defines a straight line (a linear boundary) in the 2D input space (x1, x2).\")\n",
        "print(\"Inputs on one side of the line result in an output of 1, and inputs on the other side result in an output of 0.\")\n",
        "\n",
        "print(\"\\n3. Demonstration: XOR inputs are not linearly separable.\")\n",
        "print(\"Let's plot the XOR inputs based on their expected outputs:\")\n",
        "\n",
        "# Separate inputs based on output\n",
        "class_0_inputs = [xor_inputs[i] for i in range(len(xor_inputs)) if xor_outputs[i] == 0]\n",
        "class_1_inputs = [xor_inputs[i] for i in range(len(xor_inputs)) if xor_outputs[i] == 1]\n",
        "\n",
        "plt.figure(figsize=(6, 6))\n",
        "plt.scatter([p[0] for p in class_0_inputs], [p[1] for p in class_0_inputs], color='red', label='Output 0')\n",
        "plt.scatter([p[0] for p in class_1_inputs], [p[1] for p in class_1_inputs], color='blue', label='Output 1')\n",
        "plt.title('XOR Inputs in 2D Space')\n",
        "plt.xlabel('Input 1')\n",
        "plt.ylabel('Input 2')\n",
        "plt.xlim(-0.5, 1.5)\n",
        "plt.ylim(-0.5, 1.5)\n",
        "plt.grid(True)\n",
        "plt.legend()\n",
        "plt.show()\n",
        "\n",
        "print(\"As shown in the plot, the inputs with output 0 ([0, 0] and [1, 1]) and the inputs with output 1 ([0, 1] and [1, 0]) cannot be separated by a single straight line.\")\n",
        "print(\"To separate the red points from the blue points, you would need a non-linear boundary.\")\n",
        "\n",
        "print(\"\\n4. Conclusion: XOR is not linearly separable and cannot be implemented with a single McCulloch-Pitts neuron.\")\n",
        "print(\"Since a single McCulloch-Pitts neuron can only create a linear decision boundary, it cannot correctly classify the inputs for the XOR function.\")"
      ],
      "execution_count": null,
      "outputs": [
        {
          "output_type": "stream",
          "name": "stdout",
          "text": [
            "XOR Gate Inputs and Expected Outputs:\n",
            "Input | Output\n",
            "------|-------\n",
            "[0, 0]  | 0\n",
            "[0, 1]  | 1\n",
            "[1, 0]  | 1\n",
            "[1, 1]  | 0\n",
            "\n",
            "2. Explanation: Single McCulloch-Pitts neuron creates a single linear decision boundary.\n",
            "A single McCulloch-Pitts neuron calculates a weighted sum of its inputs and compares it to a threshold.\n",
            "This can be represented mathematically as w1*x1 + w2*x2 >= threshold.\n",
            "This inequality defines a straight line (a linear boundary) in the 2D input space (x1, x2).\n",
            "Inputs on one side of the line result in an output of 1, and inputs on the other side result in an output of 0.\n",
            "\n",
            "3. Demonstration: XOR inputs are not linearly separable.\n",
            "Let's plot the XOR inputs based on their expected outputs:\n"
          ]
        },
        {
          "output_type": "display_data",
          "data": {
            "text/plain": [
              "<Figure size 600x600 with 1 Axes>"
            ],
            "image/png": "[encoded data removed]"
          },
          "metadata": {}
        },
        {
          "output_type": "stream",
          "name": "stdout",
          "text": [
            "As shown in the plot, the inputs with output 0 ([0, 0] and [1, 1]) and the inputs with output 1 ([0, 1] and [1, 0]) cannot be separated by a single straight line.\n",
            "To separate the red points from the blue points, you would need a non-linear boundary.\n",
            "\n",
            "4. Conclusion: XOR is not linearly separable and cannot be implemented with a single McCulloch-Pitts neuron.\n",
            "Since a single McCulloch-Pitts neuron can only create a linear decision boundary, it cannot correctly classify the inputs for the XOR function.\n"
          ]
        }
      ]
    },
    {
      "cell_type": "markdown",
      "metadata": {
        "id": "3cc9f753"
      },
      "source": [
        "## Implement xor gate using a multi-layer architecture.\n",
        "\n",
        "### Subtask:\n",
        "Design and implement a multi-layer neural network (e.g., using two layers) to correctly compute the XOR function.\n"
      ]
    },
    {
      "cell_type": "markdown",
      "metadata": {
        "id": "a57ba0c5"
      },
      "source": [
        "**Reasoning**:\n",
        "Define the multi-layer XOR network function, including the first layer (AND and OR or similar) and the second layer, and then test it with XOR inputs.\n",
        "\n"
      ]
    },
    {
      "cell_type": "code",
      "metadata": {
        "colab": {
          "base_uri": "https://localhost:8080/"
        },
        "id": "3c30a9bb",
        "outputId": "420e48b7-7eb4-4179-e473-e5d74beb8824"
      },
      "source": [
        "def mcculloch_pitts_neuron(inputs, weights, threshold):\n",
        "  \"\"\"\n",
        "  Simulates a single McCulloch-Pitts neuron.\n",
        "\n",
        "  Args:\n",
        "    inputs: A list or array of input values.\n",
        "    weights: A list or array of corresponding weights.\n",
        "    threshold: The threshold value for the neuron.\n",
        "\n",
        "  Returns:\n",
        "    The output of the neuron (0 or 1).\n",
        "  \"\"\"\n",
        "  weighted_sum = np.dot(inputs, weights)\n",
        "  if weighted_sum >= threshold:\n",
        "    return 1\n",
        "  else:\n",
        "    return 0\n",
        "\n",
        "def multi_layer_xor_network(inputs):\n",
        "    \"\"\"\n",
        "    Simulates a two-layer neural network for XOR.\n",
        "\n",
        "    Args:\n",
        "      inputs: A list or array of the two XOR inputs (e.g., [0, 0]).\n",
        "\n",
        "    Returns:\n",
        "      The output of the multi-layer network (0 or 1).\n",
        "    \"\"\"\n",
        "    # First Layer Neurons\n",
        "    # Neuron 1: AND gate (or similar that outputs 1 only for [1,1])\n",
        "    # Weights: [1, 1], Threshold: 2\n",
        "    first_layer_neuron_1_output = mcculloch_pitts_neuron(inputs, [1, 1], 2)\n",
        "\n",
        "    # Neuron 2: OR gate (or similar that outputs 1 for [0,1], [1,0], [1,1])\n",
        "    # Weights: [1, 1], Threshold: 1\n",
        "    first_layer_neuron_2_output = mcculloch_pitts_neuron(inputs, [1, 1], 1)\n",
        "\n",
        "    # Second Layer Neuron\n",
        "    # This neuron takes the outputs of the first layer as inputs.\n",
        "    # We need weights and a threshold such that:\n",
        "    # If first layer outputs are [0, 0] (from input [0,0]), second layer output is 0. Weighted sum: 0*w1 + 0*w2 = 0. Need 0 < threshold.\n",
        "    # If first layer outputs are [0, 1] (from input [0,1]), second layer output is 1. Weighted sum: 0*w1 + 1*w2. Need 1*w2 >= threshold.\n",
        "    # If first layer outputs are [1, 1] (from input [1,0]), second layer output is 1. Weighted sum: 1*w1 + 1*w2. Need 1*w1 + 1*w2 >= threshold. (Corrected from previous thought)\n",
        "    # If first layer outputs are [1, 1] (from input [1,1]), second layer output is 0. Weighted sum: 1*w1 + 1*w2. Need 1*w1 + 1*w2 < threshold.\n",
        "\n",
        "    # Let's rethink the first layer neurons to make the second layer simpler.\n",
        "    # How about a neuron that outputs 1 only for [1,0] and [0,1] and another that outputs 1 for [1,1]?\n",
        "    # Neuron 1: Outputs 1 for [1,0] and [0,1]. This is like an OR gate but not exactly. Let's use AND and NOT(AND).\n",
        "    # Neuron 1: AND gate as before, outputs 1 for [1,1]\n",
        "    first_layer_neuron_1_output = mcculloch_pitts_neuron(inputs, [1, 1], 2) # AND(A, B)\n",
        "\n",
        "    # Neuron 2: NOT(AND) gate - outputs 1 for [0,0], [0,1], [1,0]\n",
        "    # Inputs: [A, B]. We want 1 if A+B < 2. Weights can be [-1, -1] with threshold -1.5?\n",
        "    # [0,0] -> 0. -0.5 >= -1.5 -> 1 (Correct)\n",
        "    # [0,1] -> -1. -1 >= -1.5 -> 1 (Correct)\n",
        "    # [1,0] -> -1. -1 >= -1.5 -> 1 (Correct)\n",
        "    # [1,1] -> -2. -2 < -1.5 -> 0 (Correct)\n",
        "    first_layer_neuron_2_output = mcculloch_pitts_neuron(inputs, [-1, -1], -1.5) # NOT(AND(A, B))\n",
        "\n",
        "    # Now the second layer takes [AND(A,B), NOT(AND(A,B))] as inputs.\n",
        "    # We want output 1 if inputs are [0, 1] (XOR is 1)\n",
        "    # We want output 0 if inputs are [0, 0] (XOR is 0)\n",
        "    # We want output 0 if inputs are [1, 0] (XOR is 0)\n",
        "    # We want output 0 if inputs are [1, 1] (This combination should not happen with AND and NOT(AND))\n",
        "\n",
        "    # Let's use inputs [AND(A,B), NOT(AND(A,B))] for the second layer.\n",
        "    # Possible first layer outputs:\n",
        "    # Input [0,0]: AND=0, NOT(AND)=1 -> [0, 1]\n",
        "    # Input [0,1]: AND=0, NOT(AND)=1 -> [0, 1]\n",
        "    # Input [1,0]: AND=0, NOT(AND)=1 -> [0, 1]\n",
        "    # Input [1,1]: AND=1, NOT(AND)=0 -> [1, 0]\n",
        "\n",
        "    # This doesn't look right for XOR. Let's go back to the common approach: OR and NAND.\n",
        "    # Neuron 1: OR gate\n",
        "    first_layer_neuron_1_output = mcculloch_pitts_neuron(inputs, [1, 1], 1) # OR(A, B)\n",
        "\n",
        "    # Neuron 2: NAND gate (NOT(AND))\n",
        "    # Weights: [-1, -1], Threshold: -1.5\n",
        "    first_layer_neuron_2_output = mcculloch_pitts_neuron(inputs, [-1, -1], -1.5) # NAND(A, B)\n",
        "\n",
        "    # Second layer takes [OR(A,B), NAND(A,B)] as inputs.\n",
        "    # Possible first layer outputs:\n",
        "    # Input [0,0]: OR=0, NAND=1 -> [0, 1] -> XOR should be 0\n",
        "    # Input [0,1]: OR=1, NAND=1 -> [1, 1] -> XOR should be 1\n",
        "    # Input [1,0]: OR=1, NAND=1 -> [1, 1] -> XOR should be 1\n",
        "    # Input [1,1]: OR=1, NAND=0 -> [1, 0] -> XOR should be 0\n",
        "\n",
        "    # Now we need second layer weights [w1, w2] and threshold such that:\n",
        "    # [0, 1] -> 0*w1 + 1*w2 = w2. Need w2 < threshold for output 0.\n",
        "    # [1, 1] -> 1*w1 + 1*w2 = w1 + w2. Need w1 + w2 >= threshold for output 1.\n",
        "    # [1, 0] -> 1*w1 + 0*w2 = w1. Need w1 < threshold for output 0.\n",
        "\n",
        "    # Let's try weights [1, 1] and threshold 1.5\n",
        "    # [0, 1] -> 0*1 + 1*1 = 1. 1 < 1.5 -> Output 0 (Correct for [0,0] input)\n",
        "    # [1, 1] -> 1*1 + 1*1 = 2. 2 >= 1.5 -> Output 1 (Correct for [0,1] and [1,0] inputs)\n",
        "    # [1, 0] -> 1*1 + 0*1 = 1. 1 < 1.5 -> Output 0 (Correct for [1,1] input)\n",
        "\n",
        "    second_layer_inputs = [first_layer_neuron_1_output, first_layer_neuron_2_output]\n",
        "    second_layer_weights = [1, 1]\n",
        "    second_layer_threshold = 1.5\n",
        "\n",
        "    final_output = mcculloch_pitts_neuron(second_layer_inputs, second_layer_weights, second_layer_threshold)\n",
        "\n",
        "    return final_output\n",
        "\n",
        "# Test the multi-layer XOR network\n",
        "xor_test_inputs = [\n",
        "    [0, 0],\n",
        "    [0, 1],\n",
        "    [1, 0],\n",
        "    [1, 1]\n",
        "]\n",
        "\n",
        "print(\"Multi-layer XOR Network Simulation:\")\n",
        "print(\"Input | Output\")\n",
        "print(\"------|-------\")\n",
        "for inputs in xor_test_inputs:\n",
        "    output = multi_layer_xor_network(inputs)\n",
        "    print(f\"{inputs}  | {output}\")\n"
      ],
      "execution_count": null,
      "outputs": [
        {
          "output_type": "stream",
          "name": "stdout",
          "text": [
            "Multi-layer XOR Network Simulation:\n",
            "Input | Output\n",
            "------|-------\n",
            "[0, 0]  | 0\n",
            "[0, 1]  | 1\n",
            "[1, 0]  | 1\n",
            "[1, 1]  | 0\n"
          ]
        }
      ]
    },
    {
      "cell_type": "markdown",
      "metadata": {
        "id": "64f965d9"
      },
      "source": [
        "## Reflection\n",
        "### Data Analysis Key Findings\n",
        "\n",
        "*   A single McCulloch-Pitts neuron can successfully implement the logical AND gate using weights \\[1, 1] and a threshold of 2.\n",
        "*   A single McCulloch-Pitts neuron can successfully implement the logical OR gate using weights \\[1, 1] and a threshold of 1.\n",
        "*   The XOR function is not linearly separable, meaning its inputs based on output cannot be divided by a single straight line. This is demonstrated by plotting the inputs where points for output 0 and output 1 are interleaved.\n",
        "*   A single McCulloch-Pitts neuron can only create a single linear decision boundary, hence it cannot implement the XOR function.\n",
        "*   A multi-layer network, specifically using OR and NAND gates in the first layer with appropriate weights and thresholds, can solve the XOR problem by transforming the inputs into a linearly separable form for the second layer.\n",
        "*   The multi-layer XOR network implemented using OR (weights \\[1, 1], threshold 1) and NAND (weights \\[-1, -1], threshold -1.5) first layer neurons, and a second layer neuron (weights \\[1, 1], threshold 1.5) correctly computes the XOR function for all binary inputs.\n",
        "\n",
        "### Insights or Next Steps\n",
        "\n",
        "*   Multi-layer architectures overcome the limitations of single-layer perceptrons by creating complex, non-linear decision boundaries necessary for problems like XOR.\n",
        "*   Understanding the linear separability of a problem is crucial in determining whether a single-layer or multi-layer neural network is required.\n"
      ]
    }
  ]
}