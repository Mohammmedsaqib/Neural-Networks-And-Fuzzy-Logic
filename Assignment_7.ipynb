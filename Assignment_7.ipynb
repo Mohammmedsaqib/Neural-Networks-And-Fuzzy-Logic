{
  "nbformat": 4,
  "nbformat_minor": 0,
  "metadata": {
    "colab": {
      "provenance": [],
      "authorship_tag": "ABX9TyO3KgGjyZTIBzQvvEGrssSl",
      "include_colab_link": true
    },
    "kernelspec": {
      "name": "python3",
      "display_name": "Python 3"
    },
    "language_info": {
      "name": "python"
    }
  },
  "cells": [
    {
      "cell_type": "markdown",
      "metadata": {
        "id": "view-in-github",
        "colab_type": "text"
      },
      "source": [
        "<a href=\"https://colab.research.google.com/github/Mohammmedsaqib/Neural-Networks-And-Fuzzy-Logic/blob/main/Assignment_7.ipynb\" target=\"_parent\"><img src=\"https://colab.research.google.com/assets/colab-badge.svg\" alt=\"Open In Colab\"/></a>"
      ]
    },
    {
      "cell_type": "markdown",
      "metadata": {
        "id": "783a2eca"
      },
      "source": [
        "# Task\n",
        "Implement and compare a Recurrent Neural Network (RNN) and a feedforward model in PyTorch for sentiment classification using the dataset at \"/content/IMDB Dataset.csv\". Analyze their performance on sequential data."
      ]
    },
    {
      "cell_type": "markdown",
      "metadata": {
        "id": "1eb9cb10"
      },
      "source": [
        "## Load the data\n",
        "\n",
        "### Subtask:\n",
        "Load the IMDB dataset into a pandas DataFrame.\n"
      ]
    },
    {
      "cell_type": "markdown",
      "metadata": {
        "id": "58f53f18"
      },
      "source": [
        "**Reasoning**:\n",
        "Import the pandas library and load the dataset into a DataFrame, then display the head and info of the DataFrame.\n",
        "\n"
      ]
    },
    {
      "cell_type": "code",
      "metadata": {
        "colab": {
          "base_uri": "https://localhost:8080/",
          "height": 380
        },
        "id": "9611b5db",
        "outputId": "329fad92-fe44-4a5f-c292-d2d569436605"
      },
      "source": [
        "import pandas as pd\n",
        "\n",
        "df = pd.read_csv('/content/IMDB Dataset.csv')\n",
        "\n",
        "display(df.head())\n",
        "display(df.info())"
      ],
      "execution_count": 1,
      "outputs": [
        {
          "output_type": "display_data",
          "data": {
            "text/plain": [
              "                                              review sentiment\n",
              "0  One of the other reviewers has mentioned that ...  positive\n",
              "1  A wonderful little production. <br /><br />The...  positive\n",
              "2  I thought this was a wonderful way to spend ti...  positive\n",
              "3  Basically there's a family where a little boy ...  negative\n",
              "4  Petter Mattei's \"Love in the Time of Money\" is...  positive"
            ],
            "text/html": [
              "\n",
              "  <div id=\"df-7ba331e5-527b-4baf-bd9d-3c5a8798a949\" class=\"colab-df-container\">\n",
              "    <div>\n",
              "<style scoped>\n",
              "    .dataframe tbody tr th:only-of-type {\n",
              "        vertical-align: middle;\n",
              "    }\n",
              "\n",
              "    .dataframe tbody tr th {\n",
              "        vertical-align: top;\n",
              "    }\n",
              "\n",
              "    .dataframe thead th {\n",
              "        text-align: right;\n",
              "    }\n",
              "</style>\n",
              "<table border=\"1\" class=\"dataframe\">\n",
              "  <thead>\n",
              "    <tr style=\"text-align: right;\">\n",
              "      <th></th>\n",
              "      <th>review</th>\n",
              "      <th>sentiment</th>\n",
              "    </tr>\n",
              "  </thead>\n",
              "  <tbody>\n",
              "    <tr>\n",
              "      <th>0</th>\n",
              "      <td>One of the other reviewers has mentioned that ...</td>\n",
              "      <td>positive</td>\n",
              "    </tr>\n",
              "    <tr>\n",
              "      <th>1</th>\n",
              "      <td>A wonderful little production. &lt;br /&gt;&lt;br /&gt;The...</td>\n",
              "      <td>positive</td>\n",
              "    </tr>\n",
              "    <tr>\n",
              "      <th>2</th>\n",
              "      <td>I thought this was a wonderful way to spend ti...</td>\n",
              "      <td>positive</td>\n",
              "    </tr>\n",
              "    <tr>\n",
              "      <th>3</th>\n",
              "      <td>Basically there's a family where a little boy ...</td>\n",
              "      <td>negative</td>\n",
              "    </tr>\n",
              "    <tr>\n",
              "      <th>4</th>\n",
              "      <td>Petter Mattei's \"Love in the Time of Money\" is...</td>\n",
              "      <td>positive</td>\n",
              "    </tr>\n",
              "  </tbody>\n",
              "</table>\n",
              "</div>\n",
              "    <div class=\"colab-df-buttons\">\n",
              "\n",
              "  <div class=\"colab-df-container\">\n",
              "    <button class=\"colab-df-convert\" onclick=\"convertToInteractive('df-7ba331e5-527b-4baf-bd9d-3c5a8798a949')\"\n",
              "            title=\"Convert this dataframe to an interactive table.\"\n",
              "            style=\"display:none;\">\n",
              "\n",
              "  <svg xmlns=\"http://www.w3.org/2000/svg\" height=\"24px\" viewBox=\"0 -960 960 960\">\n",
              "    <path d=\"M120-120v-720h720v720H120Zm60-500h600v-160H180v160Zm220 220h160v-160H400v160Zm0 220h160v-160H400v160ZM180-400h160v-160H180v160Zm440 0h160v-160H620v160ZM180-180h160v-160H180v160Zm440 0h160v-160H620v160Z\"/>\n",
              "  </svg>\n",
              "    </button>\n",
              "\n",
              "  <style>\n",
              "    .colab-df-container {\n",
              "      display:flex;\n",
              "      gap: 12px;\n",
              "    }\n",
              "\n",
              "    .colab-df-convert {\n",
              "      background-color: #E8F0FE;\n",
              "      border: none;\n",
              "      border-radius: 50%;\n",
              "      cursor: pointer;\n",
              "      display: none;\n",
              "      fill: #1967D2;\n",
              "      height: 32px;\n",
              "      padding: 0 0 0 0;\n",
              "      width: 32px;\n",
              "    }\n",
              "\n",
              "    .colab-df-convert:hover {\n",
              "      background-color: #E2EBFA;\n",
              "      box-shadow: 0px 1px 2px rgba(60, 64, 67, 0.3), 0px 1px 3px 1px rgba(60, 64, 67, 0.15);\n",
              "      fill: #174EA6;\n",
              "    }\n",
              "\n",
              "    .colab-df-buttons div {\n",
              "      margin-bottom: 4px;\n",
              "    }\n",
              "\n",
              "    [theme=dark] .colab-df-convert {\n",
              "      background-color: #3B4455;\n",
              "      fill: #D2E3FC;\n",
              "    }\n",
              "\n",
              "    [theme=dark] .colab-df-convert:hover {\n",
              "      background-color: #434B5C;\n",
              "      box-shadow: 0px 1px 3px 1px rgba(0, 0, 0, 0.15);\n",
              "      filter: drop-shadow(0px 1px 2px rgba(0, 0, 0, 0.3));\n",
              "      fill: #FFFFFF;\n",
              "    }\n",
              "  </style>\n",
              "\n",
              "    <script>\n",
              "      const buttonEl =\n",
              "        document.querySelector('#df-7ba331e5-527b-4baf-bd9d-3c5a8798a949 button.colab-df-convert');\n",
              "      buttonEl.style.display =\n",
              "        google.colab.kernel.accessAllowed ? 'block' : 'none';\n",
              "\n",
              "      async function convertToInteractive(key) {\n",
              "        const element = document.querySelector('#df-7ba331e5-527b-4baf-bd9d-3c5a8798a949');\n",
              "        const dataTable =\n",
              "          await google.colab.kernel.invokeFunction('convertToInteractive',\n",
              "                                                    [key], {});\n",
              "        if (!dataTable) return;\n",
              "\n",
              "        const docLinkHtml = 'Like what you see? Visit the ' +\n",
              "          '<a target=\"_blank\" href=https://colab.research.google.com/notebooks/data_table.ipynb>data table notebook</a>'\n",
              "          + ' to learn more about interactive tables.';\n",
              "        element.innerHTML = '';\n",
              "        dataTable['output_type'] = 'display_data';\n",
              "        await google.colab.output.renderOutput(dataTable, element);\n",
              "        const docLink = document.createElement('div');\n",
              "        docLink.innerHTML = docLinkHtml;\n",
              "        element.appendChild(docLink);\n",
              "      }\n",
              "    </script>\n",
              "  </div>\n",
              "\n",
              "\n",
              "    <div id=\"df-a0147551-456f-4847-90f8-edab96ea2301\">\n",
              "      <button class=\"colab-df-quickchart\" onclick=\"quickchart('df-a0147551-456f-4847-90f8-edab96ea2301')\"\n",
              "                title=\"Suggest charts\"\n",
              "                style=\"display:none;\">\n",
              "\n",
              "<svg xmlns=\"http://www.w3.org/2000/svg\" height=\"24px\"viewBox=\"0 0 24 24\"\n",
              "     width=\"24px\">\n",
              "    <g>\n",
              "        <path d=\"M19 3H5c-1.1 0-2 .9-2 2v14c0 1.1.9 2 2 2h14c1.1 0 2-.9 2-2V5c0-1.1-.9-2-2-2zM9 17H7v-7h2v7zm4 0h-2V7h2v10zm4 0h-2v-4h2v4z\"/>\n",
              "    </g>\n",
              "</svg>\n",
              "      </button>\n",
              "\n",
              "<style>\n",
              "  .colab-df-quickchart {\n",
              "      --bg-color: #E8F0FE;\n",
              "      --fill-color: #1967D2;\n",
              "      --hover-bg-color: #E2EBFA;\n",
              "      --hover-fill-color: #174EA6;\n",
              "      --disabled-fill-color: #AAA;\n",
              "      --disabled-bg-color: #DDD;\n",
              "  }\n",
              "\n",
              "  [theme=dark] .colab-df-quickchart {\n",
              "      --bg-color: #3B4455;\n",
              "      --fill-color: #D2E3FC;\n",
              "      --hover-bg-color: #434B5C;\n",
              "      --hover-fill-color: #FFFFFF;\n",
              "      --disabled-bg-color: #3B4455;\n",
              "      --disabled-fill-color: #666;\n",
              "  }\n",
              "\n",
              "  .colab-df-quickchart {\n",
              "    background-color: var(--bg-color);\n",
              "    border: none;\n",
              "    border-radius: 50%;\n",
              "    cursor: pointer;\n",
              "    display: none;\n",
              "    fill: var(--fill-color);\n",
              "    height: 32px;\n",
              "    padding: 0;\n",
              "    width: 32px;\n",
              "  }\n",
              "\n",
              "  .colab-df-quickchart:hover {\n",
              "    background-color: var(--hover-bg-color);\n",
              "    box-shadow: 0 1px 2px rgba(60, 64, 67, 0.3), 0 1px 3px 1px rgba(60, 64, 67, 0.15);\n",
              "    fill: var(--button-hover-fill-color);\n",
              "  }\n",
              "\n",
              "  .colab-df-quickchart-complete:disabled,\n",
              "  .colab-df-quickchart-complete:disabled:hover {\n",
              "    background-color: var(--disabled-bg-color);\n",
              "    fill: var(--disabled-fill-color);\n",
              "    box-shadow: none;\n",
              "  }\n",
              "\n",
              "  .colab-df-spinner {\n",
              "    border: 2px solid var(--fill-color);\n",
              "    border-color: transparent;\n",
              "    border-bottom-color: var(--fill-color);\n",
              "    animation:\n",
              "      spin 1s steps(1) infinite;\n",
              "  }\n",
              "\n",
              "  @keyframes spin {\n",
              "    0% {\n",
              "      border-color: transparent;\n",
              "      border-bottom-color: var(--fill-color);\n",
              "      border-left-color: var(--fill-color);\n",
              "    }\n",
              "    20% {\n",
              "      border-color: transparent;\n",
              "      border-left-color: var(--fill-color);\n",
              "      border-top-color: var(--fill-color);\n",
              "    }\n",
              "    30% {\n",
              "      border-color: transparent;\n",
              "      border-left-color: var(--fill-color);\n",
              "      border-top-color: var(--fill-color);\n",
              "      border-right-color: var(--fill-color);\n",
              "    }\n",
              "    40% {\n",
              "      border-color: transparent;\n",
              "      border-right-color: var(--fill-color);\n",
              "      border-top-color: var(--fill-color);\n",
              "    }\n",
              "    60% {\n",
              "      border-color: transparent;\n",
              "      border-right-color: var(--fill-color);\n",
              "    }\n",
              "    80% {\n",
              "      border-color: transparent;\n",
              "      border-right-color: var(--fill-color);\n",
              "      border-bottom-color: var(--fill-color);\n",
              "    }\n",
              "    90% {\n",
              "      border-color: transparent;\n",
              "      border-bottom-color: var(--fill-color);\n",
              "    }\n",
              "  }\n",
              "</style>\n",
              "\n",
              "      <script>\n",
              "        async function quickchart(key) {\n",
              "          const quickchartButtonEl =\n",
              "            document.querySelector('#' + key + ' button');\n",
              "          quickchartButtonEl.disabled = true;  // To prevent multiple clicks.\n",
              "          quickchartButtonEl.classList.add('colab-df-spinner');\n",
              "          try {\n",
              "            const charts = await google.colab.kernel.invokeFunction(\n",
              "                'suggestCharts', [key], {});\n",
              "          } catch (error) {\n",
              "            console.error('Error during call to suggestCharts:', error);\n",
              "          }\n",
              "          quickchartButtonEl.classList.remove('colab-df-spinner');\n",
              "          quickchartButtonEl.classList.add('colab-df-quickchart-complete');\n",
              "        }\n",
              "        (() => {\n",
              "          let quickchartButtonEl =\n",
              "            document.querySelector('#df-a0147551-456f-4847-90f8-edab96ea2301 button');\n",
              "          quickchartButtonEl.style.display =\n",
              "            google.colab.kernel.accessAllowed ? 'block' : 'none';\n",
              "        })();\n",
              "      </script>\n",
              "    </div>\n",
              "\n",
              "    </div>\n",
              "  </div>\n"
            ],
            "application/vnd.google.colaboratory.intrinsic+json": {
              "type": "dataframe",
              "summary": "{\n  \"name\": \"display(df\",\n  \"rows\": 5,\n  \"fields\": [\n    {\n      \"column\": \"review\",\n      \"properties\": {\n        \"dtype\": \"string\",\n        \"num_unique_values\": 5,\n        \"samples\": [\n          \"A wonderful little production. <br /><br />The filming technique is very unassuming- very old-time-BBC fashion and gives a comforting, and sometimes discomforting, sense of realism to the entire piece. <br /><br />The actors are extremely well chosen- Michael Sheen not only \\\"has got all the polari\\\" but he has all the voices down pat too! You can truly see the seamless editing guided by the references to Williams' diary entries, not only is it well worth the watching but it is a terrificly written and performed piece. A masterful production about one of the great master's of comedy and his life. <br /><br />The realism really comes home with the little things: the fantasy of the guard which, rather than use the traditional 'dream' techniques remains solid then disappears. It plays on our knowledge and our senses, particularly with the scenes concerning Orton and Halliwell and the sets (particularly of their flat with Halliwell's murals decorating every surface) are terribly well done.\",\n          \"Petter Mattei's \\\"Love in the Time of Money\\\" is a visually stunning film to watch. Mr. Mattei offers us a vivid portrait about human relations. This is a movie that seems to be telling us what money, power and success do to people in the different situations we encounter. <br /><br />This being a variation on the Arthur Schnitzler's play about the same theme, the director transfers the action to the present time New York where all these different characters meet and connect. Each one is connected in one way, or another to the next person, but no one seems to know the previous point of contact. Stylishly, the film has a sophisticated luxurious look. We are taken to see how these people live and the world they live in their own habitat.<br /><br />The only thing one gets out of all these souls in the picture is the different stages of loneliness each one inhabits. A big city is not exactly the best place in which human relations find sincere fulfillment, as one discerns is the case with most of the people we encounter.<br /><br />The acting is good under Mr. Mattei's direction. Steve Buscemi, Rosario Dawson, Carol Kane, Michael Imperioli, Adrian Grenier, and the rest of the talented cast, make these characters come alive.<br /><br />We wish Mr. Mattei good luck and await anxiously for his next work.\",\n          \"I thought this was a wonderful way to spend time on a too hot summer weekend, sitting in the air conditioned theater and watching a light-hearted comedy. The plot is simplistic, but the dialogue is witty and the characters are likable (even the well bread suspected serial killer). While some may be disappointed when they realize this is not Match Point 2: Risk Addiction, I thought it was proof that Woody Allen is still fully in control of the style many of us have grown to love.<br /><br />This was the most I'd laughed at one of Woody's comedies in years (dare I say a decade?). While I've never been impressed with Scarlet Johanson, in this she managed to tone down her \\\"sexy\\\" image and jumped right into a average, but spirited young woman.<br /><br />This may not be the crown jewel of his career, but it was wittier than \\\"Devil Wears Prada\\\" and more interesting than \\\"Superman\\\" a great comedy to go see with friends.\"\n        ],\n        \"semantic_type\": \"\",\n        \"description\": \"\"\n      }\n    },\n    {\n      \"column\": \"sentiment\",\n      \"properties\": {\n        \"dtype\": \"category\",\n        \"num_unique_values\": 2,\n        \"samples\": [\n          \"negative\",\n          \"positive\"\n        ],\n        \"semantic_type\": \"\",\n        \"description\": \"\"\n      }\n    }\n  ]\n}"
            }
          },
          "metadata": {}
        },
        {
          "output_type": "stream",
          "name": "stdout",
          "text": [
            "<class 'pandas.core.frame.DataFrame'>\n",
            "RangeIndex: 50000 entries, 0 to 49999\n",
            "Data columns (total 2 columns):\n",
            " #   Column     Non-Null Count  Dtype \n",
            "---  ------     --------------  ----- \n",
            " 0   review     50000 non-null  object\n",
            " 1   sentiment  50000 non-null  object\n",
            "dtypes: object(2)\n",
            "memory usage: 781.4+ KB\n"
          ]
        },
        {
          "output_type": "display_data",
          "data": {
            "text/plain": [
              "None"
            ]
          },
          "metadata": {}
        }
      ]
    },
    {
      "cell_type": "markdown",
      "metadata": {
        "id": "cda2d775"
      },
      "source": [
        "## Preprocess the data\n",
        "\n",
        "### Subtask:\n",
        "Clean and preprocess the text data, including tokenization and padding.\n"
      ]
    },
    {
      "cell_type": "markdown",
      "metadata": {
        "id": "0b154650"
      },
      "source": [
        "**Reasoning**:\n",
        "Convert sentiment to numerical, clean text data, tokenize, and pad sequences.\n",
        "\n"
      ]
    },
    {
      "cell_type": "code",
      "metadata": {
        "colab": {
          "base_uri": "https://localhost:8080/",
          "height": 1000
        },
        "id": "38426f1f",
        "outputId": "c0e8a407-4fba-4360-f38d-00016f3b0d64"
      },
      "source": [
        "import re\n",
        "import nltk\n",
        "from nltk.corpus import stopwords\n",
        "from tensorflow.keras.preprocessing.text import Tokenizer\n",
        "from tensorflow.keras.preprocessing.sequence import pad_sequences\n",
        "\n",
        "nltk.download('stopwords')\n",
        "\n",
        "# 1. Convert sentiment to numerical\n",
        "df['sentiment'] = df['sentiment'].apply(lambda x: 1 if x == 'positive' else 0)\n",
        "\n",
        "# 2. Clean text data\n",
        "def clean_text(text):\n",
        "    text = re.sub(r'<br />', ' ', text) # Remove HTML br tags\n",
        "    text = re.sub(r'[^\\w\\s]', '', text) # Remove punctuation\n",
        "    text = text.lower() # Convert to lowercase\n",
        "    return text\n",
        "\n",
        "df['cleaned_review'] = df['review'].apply(clean_text)\n",
        "\n",
        "# 3. Tokenize the cleaned text data\n",
        "tokenizer = Tokenizer(num_words=5000) # Limit vocabulary size\n",
        "tokenizer.fit_on_texts(df['cleaned_review'])\n",
        "sequences = tokenizer.texts_to_sequences(df['cleaned_review'])\n",
        "\n",
        "# 4. Pad the tokenized sequences\n",
        "max_len = 200 # Define a fixed sequence length\n",
        "padded_sequences = pad_sequences(sequences, maxlen=max_len, padding='post', truncating='post')\n",
        "\n",
        "display(df.head())\n",
        "display(padded_sequences[:5])"
      ],
      "execution_count": 2,
      "outputs": [
        {
          "output_type": "stream",
          "name": "stderr",
          "text": [
            "[nltk_data] Downloading package stopwords to /root/nltk_data...\n",
            "[nltk_data]   Unzipping corpora/stopwords.zip.\n"
          ]
        },
        {
          "output_type": "display_data",
          "data": {
            "text/plain": [
              "                                              review  sentiment  \\\n",
              "0  One of the other reviewers has mentioned that ...          1   \n",
              "1  A wonderful little production. <br /><br />The...          1   \n",
              "2  I thought this was a wonderful way to spend ti...          1   \n",
              "3  Basically there's a family where a little boy ...          0   \n",
              "4  Petter Mattei's \"Love in the Time of Money\" is...          1   \n",
              "\n",
              "                                      cleaned_review  \n",
              "0  one of the other reviewers has mentioned that ...  \n",
              "1  a wonderful little production   the filming te...  \n",
              "2  i thought this was a wonderful way to spend ti...  \n",
              "3  basically theres a family where a little boy j...  \n",
              "4  petter matteis love in the time of money is a ...  "
            ],
            "text/html": [
              "\n",
              "  <div id=\"df-03f7fa7b-e74b-480c-aae7-c7cf28884f1b\" class=\"colab-df-container\">\n",
              "    <div>\n",
              "<style scoped>\n",
              "    .dataframe tbody tr th:only-of-type {\n",
              "        vertical-align: middle;\n",
              "    }\n",
              "\n",
              "    .dataframe tbody tr th {\n",
              "        vertical-align: top;\n",
              "    }\n",
              "\n",
              "    .dataframe thead th {\n",
              "        text-align: right;\n",
              "    }\n",
              "</style>\n",
              "<table border=\"1\" class=\"dataframe\">\n",
              "  <thead>\n",
              "    <tr style=\"text-align: right;\">\n",
              "      <th></th>\n",
              "      <th>review</th>\n",
              "      <th>sentiment</th>\n",
              "      <th>cleaned_review</th>\n",
              "    </tr>\n",
              "  </thead>\n",
              "  <tbody>\n",
              "    <tr>\n",
              "      <th>0</th>\n",
              "      <td>One of the other reviewers has mentioned that ...</td>\n",
              "      <td>1</td>\n",
              "      <td>one of the other reviewers has mentioned that ...</td>\n",
              "    </tr>\n",
              "    <tr>\n",
              "      <th>1</th>\n",
              "      <td>A wonderful little production. &lt;br /&gt;&lt;br /&gt;The...</td>\n",
              "      <td>1</td>\n",
              "      <td>a wonderful little production   the filming te...</td>\n",
              "    </tr>\n",
              "    <tr>\n",
              "      <th>2</th>\n",
              "      <td>I thought this was a wonderful way to spend ti...</td>\n",
              "      <td>1</td>\n",
              "      <td>i thought this was a wonderful way to spend ti...</td>\n",
              "    </tr>\n",
              "    <tr>\n",
              "      <th>3</th>\n",
              "      <td>Basically there's a family where a little boy ...</td>\n",
              "      <td>0</td>\n",
              "      <td>basically theres a family where a little boy j...</td>\n",
              "    </tr>\n",
              "    <tr>\n",
              "      <th>4</th>\n",
              "      <td>Petter Mattei's \"Love in the Time of Money\" is...</td>\n",
              "      <td>1</td>\n",
              "      <td>petter matteis love in the time of money is a ...</td>\n",
              "    </tr>\n",
              "  </tbody>\n",
              "</table>\n",
              "</div>\n",
              "    <div class=\"colab-df-buttons\">\n",
              "\n",
              "  <div class=\"colab-df-container\">\n",
              "    <button class=\"colab-df-convert\" onclick=\"convertToInteractive('df-03f7fa7b-e74b-480c-aae7-c7cf28884f1b')\"\n",
              "            title=\"Convert this dataframe to an interactive table.\"\n",
              "            style=\"display:none;\">\n",
              "\n",
              "  <svg xmlns=\"http://www.w3.org/2000/svg\" height=\"24px\" viewBox=\"0 -960 960 960\">\n",
              "    <path d=\"M120-120v-720h720v720H120Zm60-500h600v-160H180v160Zm220 220h160v-160H400v160Zm0 220h160v-160H400v160ZM180-400h160v-160H180v160Zm440 0h160v-160H620v160ZM180-180h160v-160H180v160Zm440 0h160v-160H620v160Z\"/>\n",
              "  </svg>\n",
              "    </button>\n",
              "\n",
              "  <style>\n",
              "    .colab-df-container {\n",
              "      display:flex;\n",
              "      gap: 12px;\n",
              "    }\n",
              "\n",
              "    .colab-df-convert {\n",
              "      background-color: #E8F0FE;\n",
              "      border: none;\n",
              "      border-radius: 50%;\n",
              "      cursor: pointer;\n",
              "      display: none;\n",
              "      fill: #1967D2;\n",
              "      height: 32px;\n",
              "      padding: 0 0 0 0;\n",
              "      width: 32px;\n",
              "    }\n",
              "\n",
              "    .colab-df-convert:hover {\n",
              "      background-color: #E2EBFA;\n",
              "      box-shadow: 0px 1px 2px rgba(60, 64, 67, 0.3), 0px 1px 3px 1px rgba(60, 64, 67, 0.15);\n",
              "      fill: #174EA6;\n",
              "    }\n",
              "\n",
              "    .colab-df-buttons div {\n",
              "      margin-bottom: 4px;\n",
              "    }\n",
              "\n",
              "    [theme=dark] .colab-df-convert {\n",
              "      background-color: #3B4455;\n",
              "      fill: #D2E3FC;\n",
              "    }\n",
              "\n",
              "    [theme=dark] .colab-df-convert:hover {\n",
              "      background-color: #434B5C;\n",
              "      box-shadow: 0px 1px 3px 1px rgba(0, 0, 0, 0.15);\n",
              "      filter: drop-shadow(0px 1px 2px rgba(0, 0, 0, 0.3));\n",
              "      fill: #FFFFFF;\n",
              "    }\n",
              "  </style>\n",
              "\n",
              "    <script>\n",
              "      const buttonEl =\n",
              "        document.querySelector('#df-03f7fa7b-e74b-480c-aae7-c7cf28884f1b button.colab-df-convert');\n",
              "      buttonEl.style.display =\n",
              "        google.colab.kernel.accessAllowed ? 'block' : 'none';\n",
              "\n",
              "      async function convertToInteractive(key) {\n",
              "        const element = document.querySelector('#df-03f7fa7b-e74b-480c-aae7-c7cf28884f1b');\n",
              "        const dataTable =\n",
              "          await google.colab.kernel.invokeFunction('convertToInteractive',\n",
              "                                                    [key], {});\n",
              "        if (!dataTable) return;\n",
              "\n",
              "        const docLinkHtml = 'Like what you see? Visit the ' +\n",
              "          '<a target=\"_blank\" href=https://colab.research.google.com/notebooks/data_table.ipynb>data table notebook</a>'\n",
              "          + ' to learn more about interactive tables.';\n",
              "        element.innerHTML = '';\n",
              "        dataTable['output_type'] = 'display_data';\n",
              "        await google.colab.output.renderOutput(dataTable, element);\n",
              "        const docLink = document.createElement('div');\n",
              "        docLink.innerHTML = docLinkHtml;\n",
              "        element.appendChild(docLink);\n",
              "      }\n",
              "    </script>\n",
              "  </div>\n",
              "\n",
              "\n",
              "    <div id=\"df-df211860-3a37-4063-8ed8-c06dc5b18cda\">\n",
              "      <button class=\"colab-df-quickchart\" onclick=\"quickchart('df-df211860-3a37-4063-8ed8-c06dc5b18cda')\"\n",
              "                title=\"Suggest charts\"\n",
              "                style=\"display:none;\">\n",
              "\n",
              "<svg xmlns=\"http://www.w3.org/2000/svg\" height=\"24px\"viewBox=\"0 0 24 24\"\n",
              "     width=\"24px\">\n",
              "    <g>\n",
              "        <path d=\"M19 3H5c-1.1 0-2 .9-2 2v14c0 1.1.9 2 2 2h14c1.1 0 2-.9 2-2V5c0-1.1-.9-2-2-2zM9 17H7v-7h2v7zm4 0h-2V7h2v10zm4 0h-2v-4h2v4z\"/>\n",
              "    </g>\n",
              "</svg>\n",
              "      </button>\n",
              "\n",
              "<style>\n",
              "  .colab-df-quickchart {\n",
              "      --bg-color: #E8F0FE;\n",
              "      --fill-color: #1967D2;\n",
              "      --hover-bg-color: #E2EBFA;\n",
              "      --hover-fill-color: #174EA6;\n",
              "      --disabled-fill-color: #AAA;\n",
              "      --disabled-bg-color: #DDD;\n",
              "  }\n",
              "\n",
              "  [theme=dark] .colab-df-quickchart {\n",
              "      --bg-color: #3B4455;\n",
              "      --fill-color: #D2E3FC;\n",
              "      --hover-bg-color: #434B5C;\n",
              "      --hover-fill-color: #FFFFFF;\n",
              "      --disabled-bg-color: #3B4455;\n",
              "      --disabled-fill-color: #666;\n",
              "  }\n",
              "\n",
              "  .colab-df-quickchart {\n",
              "    background-color: var(--bg-color);\n",
              "    border: none;\n",
              "    border-radius: 50%;\n",
              "    cursor: pointer;\n",
              "    display: none;\n",
              "    fill: var(--fill-color);\n",
              "    height: 32px;\n",
              "    padding: 0;\n",
              "    width: 32px;\n",
              "  }\n",
              "\n",
              "  .colab-df-quickchart:hover {\n",
              "    background-color: var(--hover-bg-color);\n",
              "    box-shadow: 0 1px 2px rgba(60, 64, 67, 0.3), 0 1px 3px 1px rgba(60, 64, 67, 0.15);\n",
              "    fill: var(--button-hover-fill-color);\n",
              "  }\n",
              "\n",
              "  .colab-df-quickchart-complete:disabled,\n",
              "  .colab-df-quickchart-complete:disabled:hover {\n",
              "    background-color: var(--disabled-bg-color);\n",
              "    fill: var(--disabled-fill-color);\n",
              "    box-shadow: none;\n",
              "  }\n",
              "\n",
              "  .colab-df-spinner {\n",
              "    border: 2px solid var(--fill-color);\n",
              "    border-color: transparent;\n",
              "    border-bottom-color: var(--fill-color);\n",
              "    animation:\n",
              "      spin 1s steps(1) infinite;\n",
              "  }\n",
              "\n",
              "  @keyframes spin {\n",
              "    0% {\n",
              "      border-color: transparent;\n",
              "      border-bottom-color: var(--fill-color);\n",
              "      border-left-color: var(--fill-color);\n",
              "    }\n",
              "    20% {\n",
              "      border-color: transparent;\n",
              "      border-left-color: var(--fill-color);\n",
              "      border-top-color: var(--fill-color);\n",
              "    }\n",
              "    30% {\n",
              "      border-color: transparent;\n",
              "      border-left-color: var(--fill-color);\n",
              "      border-top-color: var(--fill-color);\n",
              "      border-right-color: var(--fill-color);\n",
              "    }\n",
              "    40% {\n",
              "      border-color: transparent;\n",
              "      border-right-color: var(--fill-color);\n",
              "      border-top-color: var(--fill-color);\n",
              "    }\n",
              "    60% {\n",
              "      border-color: transparent;\n",
              "      border-right-color: var(--fill-color);\n",
              "    }\n",
              "    80% {\n",
              "      border-color: transparent;\n",
              "      border-right-color: var(--fill-color);\n",
              "      border-bottom-color: var(--fill-color);\n",
              "    }\n",
              "    90% {\n",
              "      border-color: transparent;\n",
              "      border-bottom-color: var(--fill-color);\n",
              "    }\n",
              "  }\n",
              "</style>\n",
              "\n",
              "      <script>\n",
              "        async function quickchart(key) {\n",
              "          const quickchartButtonEl =\n",
              "            document.querySelector('#' + key + ' button');\n",
              "          quickchartButtonEl.disabled = true;  // To prevent multiple clicks.\n",
              "          quickchartButtonEl.classList.add('colab-df-spinner');\n",
              "          try {\n",
              "            const charts = await google.colab.kernel.invokeFunction(\n",
              "                'suggestCharts', [key], {});\n",
              "          } catch (error) {\n",
              "            console.error('Error during call to suggestCharts:', error);\n",
              "          }\n",
              "          quickchartButtonEl.classList.remove('colab-df-spinner');\n",
              "          quickchartButtonEl.classList.add('colab-df-quickchart-complete');\n",
              "        }\n",
              "        (() => {\n",
              "          let quickchartButtonEl =\n",
              "            document.querySelector('#df-df211860-3a37-4063-8ed8-c06dc5b18cda button');\n",
              "          quickchartButtonEl.style.display =\n",
              "            google.colab.kernel.accessAllowed ? 'block' : 'none';\n",
              "        })();\n",
              "      </script>\n",
              "    </div>\n",
              "\n",
              "    </div>\n",
              "  </div>\n"
            ],
            "application/vnd.google.colaboratory.intrinsic+json": {
              "type": "dataframe",
              "summary": "{\n  \"name\": \"display(padded_sequences[:5])\",\n  \"rows\": 5,\n  \"fields\": [\n    {\n      \"column\": \"review\",\n      \"properties\": {\n        \"dtype\": \"string\",\n        \"num_unique_values\": 5,\n        \"samples\": [\n          \"A wonderful little production. <br /><br />The filming technique is very unassuming- very old-time-BBC fashion and gives a comforting, and sometimes discomforting, sense of realism to the entire piece. <br /><br />The actors are extremely well chosen- Michael Sheen not only \\\"has got all the polari\\\" but he has all the voices down pat too! You can truly see the seamless editing guided by the references to Williams' diary entries, not only is it well worth the watching but it is a terrificly written and performed piece. A masterful production about one of the great master's of comedy and his life. <br /><br />The realism really comes home with the little things: the fantasy of the guard which, rather than use the traditional 'dream' techniques remains solid then disappears. It plays on our knowledge and our senses, particularly with the scenes concerning Orton and Halliwell and the sets (particularly of their flat with Halliwell's murals decorating every surface) are terribly well done.\",\n          \"Petter Mattei's \\\"Love in the Time of Money\\\" is a visually stunning film to watch. Mr. Mattei offers us a vivid portrait about human relations. This is a movie that seems to be telling us what money, power and success do to people in the different situations we encounter. <br /><br />This being a variation on the Arthur Schnitzler's play about the same theme, the director transfers the action to the present time New York where all these different characters meet and connect. Each one is connected in one way, or another to the next person, but no one seems to know the previous point of contact. Stylishly, the film has a sophisticated luxurious look. We are taken to see how these people live and the world they live in their own habitat.<br /><br />The only thing one gets out of all these souls in the picture is the different stages of loneliness each one inhabits. A big city is not exactly the best place in which human relations find sincere fulfillment, as one discerns is the case with most of the people we encounter.<br /><br />The acting is good under Mr. Mattei's direction. Steve Buscemi, Rosario Dawson, Carol Kane, Michael Imperioli, Adrian Grenier, and the rest of the talented cast, make these characters come alive.<br /><br />We wish Mr. Mattei good luck and await anxiously for his next work.\",\n          \"I thought this was a wonderful way to spend time on a too hot summer weekend, sitting in the air conditioned theater and watching a light-hearted comedy. The plot is simplistic, but the dialogue is witty and the characters are likable (even the well bread suspected serial killer). While some may be disappointed when they realize this is not Match Point 2: Risk Addiction, I thought it was proof that Woody Allen is still fully in control of the style many of us have grown to love.<br /><br />This was the most I'd laughed at one of Woody's comedies in years (dare I say a decade?). While I've never been impressed with Scarlet Johanson, in this she managed to tone down her \\\"sexy\\\" image and jumped right into a average, but spirited young woman.<br /><br />This may not be the crown jewel of his career, but it was wittier than \\\"Devil Wears Prada\\\" and more interesting than \\\"Superman\\\" a great comedy to go see with friends.\"\n        ],\n        \"semantic_type\": \"\",\n        \"description\": \"\"\n      }\n    },\n    {\n      \"column\": \"sentiment\",\n      \"properties\": {\n        \"dtype\": \"number\",\n        \"std\": 0,\n        \"min\": 0,\n        \"max\": 1,\n        \"num_unique_values\": 2,\n        \"samples\": [\n          0,\n          1\n        ],\n        \"semantic_type\": \"\",\n        \"description\": \"\"\n      }\n    },\n    {\n      \"column\": \"cleaned_review\",\n      \"properties\": {\n        \"dtype\": \"string\",\n        \"num_unique_values\": 5,\n        \"samples\": [\n          \"a wonderful little production   the filming technique is very unassuming very oldtimebbc fashion and gives a comforting and sometimes discomforting sense of realism to the entire piece   the actors are extremely well chosen michael sheen not only has got all the polari but he has all the voices down pat too you can truly see the seamless editing guided by the references to williams diary entries not only is it well worth the watching but it is a terrificly written and performed piece a masterful production about one of the great masters of comedy and his life   the realism really comes home with the little things the fantasy of the guard which rather than use the traditional dream techniques remains solid then disappears it plays on our knowledge and our senses particularly with the scenes concerning orton and halliwell and the sets particularly of their flat with halliwells murals decorating every surface are terribly well done\",\n          \"petter matteis love in the time of money is a visually stunning film to watch mr mattei offers us a vivid portrait about human relations this is a movie that seems to be telling us what money power and success do to people in the different situations we encounter   this being a variation on the arthur schnitzlers play about the same theme the director transfers the action to the present time new york where all these different characters meet and connect each one is connected in one way or another to the next person but no one seems to know the previous point of contact stylishly the film has a sophisticated luxurious look we are taken to see how these people live and the world they live in their own habitat  the only thing one gets out of all these souls in the picture is the different stages of loneliness each one inhabits a big city is not exactly the best place in which human relations find sincere fulfillment as one discerns is the case with most of the people we encounter  the acting is good under mr matteis direction steve buscemi rosario dawson carol kane michael imperioli adrian grenier and the rest of the talented cast make these characters come alive  we wish mr mattei good luck and await anxiously for his next work\"\n        ],\n        \"semantic_type\": \"\",\n        \"description\": \"\"\n      }\n    }\n  ]\n}"
            }
          },
          "metadata": {}
        },
        {
          "output_type": "display_data",
          "data": {
            "text/plain": [
              "array([[  27,    4,    1,   75, 1944,   44, 1062,   11,  100,  143,   39,\n",
              "         477, 3300,  388,  469,   25, 3141,   33,   22,  200,   13,   10,\n",
              "           6,  601,   47,  578,   14,   68,    1,   87,  145,   11, 3259,\n",
              "          68,   41, 3300,   12,   28,    2,  132,    4,  576,   60,  283,\n",
              "           7,  200,   34,    1,  669,  137, 1703,   68,   10,    6,   20,\n",
              "           3,  117,   15,    1,   38,   10,  117, 2516,   55,   14,    5,\n",
              "        1448,  382,   38,  576,   28,    6, 3382,    7,    1,  349,  345,\n",
              "           4,    1,  669,    8,    6,  472, 3300,   13,   11,    6,    1,\n",
              "         344,    5,    1, 2525, 1058,    8, 2648, 1381,   19,  530,   32,\n",
              "        4725, 2507,    4,    1, 1190,  113,   30,    1,   24, 2945,    2,\n",
              "         398,   36,    6,   20,  318,   19,    1, 4906, 3569,  530,    6,\n",
              "         337,    5, 2476,    2,  323,    2,   22,  108,  225,  237,    9,\n",
              "          56,  129,    1,  272, 1290,    4,    1,  117,    6,  670,    5,\n",
              "           1,  187,   11,    8,  263,  113,   75,  256,  552, 2993,  813,\n",
              "         178, 1251, 4329,   15, 2499, 1093,  813, 1401,  813,  147,  940,\n",
              "         180,    1,   87,  388,    9,  119,  203, 3259,   68,   13,   36,\n",
              "        1581,    8,   12, 2198,    9,  399,  129,    9,   12, 1560,   15,\n",
              "           8,   17,   13,    9,  280,   50,    9, 1470,    3, 1242,   15,\n",
              "        3300,    2],\n",
              "       [   3,  384,  116,  357,    1, 1338, 2935,    6,   51,   51, 1585,\n",
              "           2,  396,    3,    2,  518,  275,    4, 1839,    5,    1,  426,\n",
              "         405,    1,  148,   22,  550,   69, 2278,  495, 4582,   20,   59,\n",
              "          44,  184,   30,    1,   17,   26,   44,   30,    1, 2222,  181,\n",
              "        3260,   97,   21,   67,  353,   63,    1,  785,   31,    1, 1783,\n",
              "           5, 1669,   20,   59,    6,    8,   69,  267,    1,  143,   17,\n",
              "           8,    6,    3,  429,    2, 2363,  405,    3, 4306,  357,   41,\n",
              "          27,    4,    1,   79, 3200,    4,  209,    2,   23,  118,    1,\n",
              "        1839,   61,  261,  337,   14,    1,  116,  174,    1, 1060,    4,\n",
              "           1, 2965,   60,  242,   70,  345,    1, 2151, 1010, 3071, 1245,\n",
              "        1153,   90, 4971,    8,  291,   19,  249, 1774,    2,  249, 4485,\n",
              "         577,   14,    1,  132, 3614,    2,    2,    1,  709,  577,    4,\n",
              "          62, 1075,   14,  165, 2253,   22, 1907,   69,  221,    0,    0,\n",
              "           0,    0,    0,    0,    0,    0,    0,    0,    0,    0,    0,\n",
              "           0,    0,    0,    0,    0,    0,    0,    0,    0,    0,    0,\n",
              "           0,    0,    0,    0,    0,    0,    0,    0,    0,    0,    0,\n",
              "           0,    0,    0,    0,    0,    0,    0,    0,    0,    0,    0,\n",
              "           0,    0,    0,    0,    0,    0,    0,    0,    0,    0,    0,\n",
              "           0,    0],\n",
              "       [   9,  192,   10,   12,    3,  384,   94,    5, 1120,   57,   19,\n",
              "           3,   97,  901, 1459, 2467, 1201,    7,    1,  938,  753,    2,\n",
              "         143,    3, 4015,  209,    1,  111,    6, 4016,   17,    1,  401,\n",
              "           6, 1859,    2,    1,   99,   22, 1466,   53,    1,   69, 1549,\n",
              "         491,  134,   45,  196,   25,  661,   49,   33,  935,   10,    6,\n",
              "          20, 1008,  219,  282, 2936,    9,  192,    8,   12, 3030,   11,\n",
              "        2930, 2031,    6,  125, 1387,    7, 1147,    4,    1,  423,  103,\n",
              "           4,  168,   24, 2334,    5,  109,   10,   12,    1,   86,  453,\n",
              "        1406,   29,   27,    4, 1285,    7,  150, 2993,    9,  129,    3,\n",
              "        2060,  134,  194,  108,   73, 1461,   14,    7,   10,   58, 1270,\n",
              "           5, 1228,  181,   40, 1231, 1403,    2,  200,   81,    3,  855,\n",
              "          17,  183,  252,   10,  196,   20,   25,    1,    4,   23,  625,\n",
              "          17,    8,   12,   70, 2255, 2873,    2,   50,  215,   70, 2634,\n",
              "           3,   79,  209,    5,  137,   63,   14,  331,    0,    0,    0,\n",
              "           0,    0,    0,    0,    0,    0,    0,    0,    0,    0,    0,\n",
              "           0,    0,    0,    0,    0,    0,    0,    0,    0,    0,    0,\n",
              "           0,    0,    0,    0,    0,    0,    0,    0,    0,    0,    0,\n",
              "           0,    0,    0,    0,    0,    0,    0,    0,    0,    0,    0,\n",
              "           0,    0],\n",
              "       [ 667,  214,    3,  233,  113,    3,  116,  435, 3554, 1203,  214,\n",
              "           3, 1026,    7,   23, 4247,   23,  743,   22, 1002,   30,    1,\n",
              "          57,   10,   16,    6,   70,    3, 1916, 1359,    2, 1087, 3554,\n",
              "        1061,    5,  413,    2,  493,    1, 1026,  572,   87,    4,   30,\n",
              "          49,  319,  161,    5,   95,    3,   18,   21,  213, 1124,   42,\n",
              "          28,    3,  755,   38,    3,  470,   13,    3,  470,    1,   16,\n",
              "           6, 1677,  743,   22,   37,    7,  144,  118,    2,   90,   71,\n",
              "          24, 3554,   14,   23, 4247,   60,  446, 4062,   30,    1,   18,\n",
              "           9,  838,    5,   63,    3,  722,   16,    2,  296,    9,  280,\n",
              "           3,  470,   14,   45, 3789,  755, 3201,  434,   43,    4,  292,\n",
              "          39,   15,    1,   69,  385,  743, 4607, 3253,   13,   15,    1,\n",
              "         631,   14, 3554,   39, 2700,   89,    0,    0,    0,    0,    0,\n",
              "           0,    0,    0,    0,    0,    0,    0,    0,    0,    0,    0,\n",
              "           0,    0,    0,    0,    0,    0,    0,    0,    0,    0,    0,\n",
              "           0,    0,    0,    0,    0,    0,    0,    0,    0,    0,    0,\n",
              "           0,    0,    0,    0,    0,    0,    0,    0,    0,    0,    0,\n",
              "           0,    0,    0,    0,    0,    0,    0,    0,    0,    0,    0,\n",
              "           0,    0,    0,    0,    0,    0,    0,    0,    0,    0,    0,\n",
              "           0,    0],\n",
              "       [ 109,    7,    1,   57,    4,  285,    6,    3, 2077, 1373,   18,\n",
              "           5,  102,  444, 1507,  168,    3, 4194, 3273,   41,  393, 4432,\n",
              "          10,    6,    3,   16,   11,  179,    5,   25, 1021,  168,   47,\n",
              "         285,  657,    2,  984,   78,    5,   82,    7,    1,  268, 1104,\n",
              "          71, 2423,   10,  107,    3,   19,    1, 1802,  290,   41,    1,\n",
              "         162,  754,    1,  171,    1,  220,    5,    1, 1006,   57,  164,\n",
              "         851,  113,   30,  128,  268,   99,  868,    2, 3725,  245,   27,\n",
              "           6, 3214,    7,   27,   94,   38,  153,    5,    1,  355,  394,\n",
              "          17,   55,   27,  179,    5,  115,    1,  899,  219,    4, 2882,\n",
              "           1,   18,   44,    3, 3372,  160,   71,   22,  585,    5,   63,\n",
              "          84,  128,   82,  431,    2,    1,  182,   33,  431,    7,   62,\n",
              "         195,    1,   59,  145,   27,  206,   43,    4,   30,  128, 3254,\n",
              "           7,    1,  427,    6,    1,  268,    4, 4726,  245,   27,    3,\n",
              "         191,  530,    6,   20,  601,    1,  114,  269,    7,   60,  393,\n",
              "        4432,  159, 4486,   13,   27,    6,    1,  410,   14,   86,    4,\n",
              "           1,   82,   71, 2423,    1,  110,    6,   48,  486,  444,  455,\n",
              "        1315, 3849, 2764,  495,    2,    1,  351,    4,    1, 1023,  176,\n",
              "          95,  128,   99,  210, 1101,   71,  620,  444,   48, 2072,    2,\n",
              "          15,   23]], dtype=int32)"
            ]
          },
          "metadata": {}
        }
      ]
    },
    {
      "cell_type": "markdown",
      "metadata": {
        "id": "43db9f58"
      },
      "source": [
        "## Split the data\n",
        "\n",
        "### Subtask:\n",
        "Split the dataset into training and testing sets.\n"
      ]
    },
    {
      "cell_type": "markdown",
      "metadata": {
        "id": "288b9a08"
      },
      "source": [
        "**Reasoning**:\n",
        "Split the data into training and testing sets using the padded sequences as features and the sentiment column as the target variable.\n",
        "\n"
      ]
    },
    {
      "cell_type": "code",
      "metadata": {
        "colab": {
          "base_uri": "https://localhost:8080/"
        },
        "id": "6c56fe09",
        "outputId": "f770098e-1e83-4478-91d1-0fb33a2101c7"
      },
      "source": [
        "from sklearn.model_selection import train_test_split\n",
        "\n",
        "X_train, X_test, y_train, y_test = train_test_split(padded_sequences, df['sentiment'], test_size=0.2, random_state=42)\n",
        "\n",
        "print(\"Shape of X_train:\", X_train.shape)\n",
        "print(\"Shape of X_test:\", X_test.shape)\n",
        "print(\"Shape of y_train:\", y_train.shape)\n",
        "print(\"Shape of y_test:\", y_test.shape)"
      ],
      "execution_count": 3,
      "outputs": [
        {
          "output_type": "stream",
          "name": "stdout",
          "text": [
            "Shape of X_train: (40000, 200)\n",
            "Shape of X_test: (10000, 200)\n",
            "Shape of y_train: (40000,)\n",
            "Shape of y_test: (10000,)\n"
          ]
        }
      ]
    },
    {
      "cell_type": "markdown",
      "metadata": {
        "id": "d6657dfa"
      },
      "source": [
        "## Create vocabulary and embeddings\n",
        "\n",
        "### Subtask:\n",
        "Build a vocabulary from the training data and create word embeddings.\n"
      ]
    },
    {
      "cell_type": "markdown",
      "metadata": {
        "id": "d89e06c2"
      },
      "source": [
        "**Reasoning**:\n",
        "Determine the vocabulary size and define the embedding dimension.\n",
        "\n"
      ]
    },
    {
      "cell_type": "code",
      "metadata": {
        "colab": {
          "base_uri": "https://localhost:8080/"
        },
        "id": "6eb38f5c",
        "outputId": "c4c38e5b-b1e9-4101-d439-2f07f31043a9"
      },
      "source": [
        "vocab_size = len(tokenizer.word_index) + 1 # Add 1 for padding\n",
        "embedding_dim = 100 # Define the embedding dimension\n",
        "\n",
        "print(\"Vocabulary Size:\", vocab_size)\n",
        "print(\"Embedding Dimension:\", embedding_dim)"
      ],
      "execution_count": 4,
      "outputs": [
        {
          "output_type": "stream",
          "name": "stdout",
          "text": [
            "Vocabulary Size: 168031\n",
            "Embedding Dimension: 100\n"
          ]
        }
      ]
    },
    {
      "cell_type": "markdown",
      "metadata": {
        "id": "885360da"
      },
      "source": [
        "## Implement the feedforward model\n",
        "\n",
        "### Subtask:\n",
        "Define and implement a simple feedforward neural network for sentiment classification.\n"
      ]
    },
    {
      "cell_type": "markdown",
      "metadata": {
        "id": "1986be94"
      },
      "source": [
        "**Reasoning**:\n",
        "Implement the feedforward neural network model as requested in the subtask.\n",
        "\n"
      ]
    },
    {
      "cell_type": "code",
      "metadata": {
        "colab": {
          "base_uri": "https://localhost:8080/"
        },
        "id": "10aa676a",
        "outputId": "fc777839-37b1-41d4-f8f5-40cde3634a7b"
      },
      "source": [
        "import torch\n",
        "import torch.nn as nn\n",
        "import torch.optim as optim\n",
        "\n",
        "class FeedforwardNN(nn.Module):\n",
        "    def __init__(self, vocab_size, embedding_dim, hidden_dim, output_dim):\n",
        "        super().__init__()\n",
        "        self.embedding = nn.Embedding(vocab_size, embedding_dim)\n",
        "        self.fc1 = nn.Linear(embedding_dim * max_len, hidden_dim)\n",
        "        self.relu = nn.ReLU()\n",
        "        self.fc2 = nn.Linear(hidden_dim, output_dim)\n",
        "\n",
        "    def forward(self, text):\n",
        "        embedded = self.embedding(text)\n",
        "        flattened = embedded.view(embedded.size(0), -1) # Flatten the embedded sequences\n",
        "        hidden = self.fc1(flattened)\n",
        "        activated = self.relu(hidden)\n",
        "        output = self.fc2(activated)\n",
        "        return output\n",
        "\n",
        "# Define model parameters\n",
        "hidden_dim = 64\n",
        "output_dim = 1 # For binary classification\n",
        "\n",
        "# Instantiate the model\n",
        "ff_model = FeedforwardNN(vocab_size, embedding_dim, hidden_dim, output_dim)\n",
        "\n",
        "print(ff_model)"
      ],
      "execution_count": 5,
      "outputs": [
        {
          "output_type": "stream",
          "name": "stdout",
          "text": [
            "FeedforwardNN(\n",
            "  (embedding): Embedding(168031, 100)\n",
            "  (fc1): Linear(in_features=20000, out_features=64, bias=True)\n",
            "  (relu): ReLU()\n",
            "  (fc2): Linear(in_features=64, out_features=1, bias=True)\n",
            ")\n"
          ]
        }
      ]
    },
    {
      "cell_type": "markdown",
      "metadata": {
        "id": "4cd50f84"
      },
      "source": [
        "## Implement the rnn model\n",
        "\n",
        "### Subtask:\n",
        "Define and implement the Recurrent Neural Network (RNN) model for sentiment classification.\n"
      ]
    },
    {
      "cell_type": "markdown",
      "metadata": {
        "id": "1b2f178b"
      },
      "source": [
        "**Reasoning**:\n",
        "Define the RNN model class according to the instructions, including the embedding layer, RNN layer, and linear layer, and then instantiate and print the model.\n",
        "\n"
      ]
    },
    {
      "cell_type": "code",
      "metadata": {
        "colab": {
          "base_uri": "https://localhost:8080/"
        },
        "id": "493583d2",
        "outputId": "6a4d0241-0db1-4677-812a-1e8e027f68c0"
      },
      "source": [
        "class RNN(nn.Module):\n",
        "    def __init__(self, vocab_size, embedding_dim, hidden_dim, output_dim):\n",
        "        super().__init__()\n",
        "        self.embedding = nn.Embedding(vocab_size, embedding_dim)\n",
        "        self.rnn = nn.RNN(embedding_dim, hidden_dim, batch_first=True)\n",
        "        self.fc = nn.Linear(hidden_dim, output_dim)\n",
        "\n",
        "    def forward(self, text):\n",
        "        embedded = self.embedding(text)\n",
        "        output, hidden = self.rnn(embedded)\n",
        "        # Use the hidden state from the last time step\n",
        "        hidden = hidden.squeeze(0)\n",
        "        output = self.fc(hidden)\n",
        "        return output\n",
        "\n",
        "# Define model parameters\n",
        "hidden_dim = 64\n",
        "output_dim = 1 # For binary classification\n",
        "\n",
        "# Instantiate the model\n",
        "rnn_model = RNN(vocab_size, embedding_dim, hidden_dim, output_dim)\n",
        "\n",
        "print(rnn_model)"
      ],
      "execution_count": 6,
      "outputs": [
        {
          "output_type": "stream",
          "name": "stdout",
          "text": [
            "RNN(\n",
            "  (embedding): Embedding(168031, 100)\n",
            "  (rnn): RNN(100, 64, batch_first=True)\n",
            "  (fc): Linear(in_features=64, out_features=1, bias=True)\n",
            ")\n"
          ]
        }
      ]
    },
    {
      "cell_type": "markdown",
      "metadata": {
        "id": "11a60729"
      },
      "source": [
        "## Train both models\n",
        "\n",
        "### Subtask:\n",
        "Train both the feedforward and RNN models on the training data.\n"
      ]
    },
    {
      "cell_type": "markdown",
      "metadata": {
        "id": "5a62a943"
      },
      "source": [
        "**Reasoning**:\n",
        "Convert the training and testing data to PyTorch tensors and create TensorDatasets and DataLoaders.\n",
        "\n"
      ]
    },
    {
      "cell_type": "code",
      "metadata": {
        "colab": {
          "base_uri": "https://localhost:8080/"
        },
        "id": "97be8b27",
        "outputId": "3f659d85-19a2-4989-a727-830d90fea7a2"
      },
      "source": [
        "import torch\n",
        "from torch.utils.data import TensorDataset, DataLoader\n",
        "\n",
        "# Convert data to PyTorch tensors\n",
        "X_train_tensor = torch.tensor(X_train, dtype=torch.long)\n",
        "y_train_tensor = torch.tensor(y_train.values, dtype=torch.float).unsqueeze(1) # Add a dimension for BCEWithLogitsLoss\n",
        "\n",
        "X_test_tensor = torch.tensor(X_test, dtype=torch.long)\n",
        "y_test_tensor = torch.tensor(y_test.values, dtype=torch.float).unsqueeze(1) # Add a dimension for BCEWithLogitsLoss\n",
        "\n",
        "\n",
        "# Create TensorDatasets\n",
        "train_dataset = TensorDataset(X_train_tensor, y_train_tensor)\n",
        "test_dataset = TensorDataset(X_test_tensor, y_test_tensor)\n",
        "\n",
        "# Create DataLoaders\n",
        "batch_size = 128\n",
        "train_loader = DataLoader(train_dataset, batch_size=batch_size, shuffle=True)\n",
        "test_loader = DataLoader(test_dataset, batch_size=batch_size, shuffle=False)\n",
        "\n",
        "print(\"Train DataLoader size:\", len(train_loader))\n",
        "print(\"Test DataLoader size:\", len(test_loader))"
      ],
      "execution_count": 7,
      "outputs": [
        {
          "output_type": "stream",
          "name": "stdout",
          "text": [
            "Train DataLoader size: 313\n",
            "Test DataLoader size: 79\n"
          ]
        }
      ]
    },
    {
      "cell_type": "markdown",
      "metadata": {
        "id": "00ec4ac5"
      },
      "source": [
        "**Reasoning**:\n",
        "Define the loss function, optimizers, and set the number of epochs for training.\n",
        "\n"
      ]
    },
    {
      "cell_type": "code",
      "metadata": {
        "colab": {
          "base_uri": "https://localhost:8080/"
        },
        "id": "63908feb",
        "outputId": "13c2be26-9dff-4bb1-dbea-0fba1013e8f3"
      },
      "source": [
        "import torch.nn as nn\n",
        "import torch.optim as optim\n",
        "\n",
        "# Define loss function\n",
        "criterion = nn.BCEWithLogitsLoss()\n",
        "\n",
        "# Define optimizers\n",
        "ff_optimizer = optim.Adam(ff_model.parameters(), lr=0.001)\n",
        "rnn_optimizer = optim.Adam(rnn_model.parameters(), lr=0.001)\n",
        "\n",
        "# Set number of epochs\n",
        "num_epochs = 5\n",
        "\n",
        "print(\"Loss function defined.\")\n",
        "print(\"Optimizers defined.\")\n",
        "print(f\"Number of epochs set to {num_epochs}.\")"
      ],
      "execution_count": 8,
      "outputs": [
        {
          "output_type": "stream",
          "name": "stdout",
          "text": [
            "Loss function defined.\n",
            "Optimizers defined.\n",
            "Number of epochs set to 5.\n"
          ]
        }
      ]
    },
    {
      "cell_type": "markdown",
      "metadata": {
        "id": "7eeb608f"
      },
      "source": [
        "**Reasoning**:\n",
        "Train both the feedforward and RNN models using the defined loss function, optimizers, and number of epochs.\n",
        "\n"
      ]
    },
    {
      "cell_type": "code",
      "metadata": {
        "colab": {
          "base_uri": "https://localhost:8080/"
        },
        "id": "c381afbb",
        "outputId": "d905b165-02e6-40d1-adf7-90c36518655b"
      },
      "source": [
        "# Training loop for the Feedforward Model\n",
        "print(\"Starting training for Feedforward Model...\")\n",
        "ff_model.train()\n",
        "for epoch in range(num_epochs):\n",
        "    total_loss = 0\n",
        "    for inputs, labels in train_loader:\n",
        "        ff_optimizer.zero_grad()\n",
        "        outputs = ff_model(inputs)\n",
        "        loss = criterion(outputs, labels)\n",
        "        loss.backward()\n",
        "        ff_optimizer.step()\n",
        "        total_loss += loss.item()\n",
        "    print(f'Feedforward Model - Epoch {epoch+1}/{num_epochs}, Loss: {total_loss/len(train_loader):.4f}')\n",
        "\n",
        "# Training loop for the RNN Model\n",
        "print(\"\\nStarting training for RNN Model...\")\n",
        "rnn_model.train()\n",
        "for epoch in range(num_epochs):\n",
        "    total_loss = 0\n",
        "    for inputs, labels in train_loader:\n",
        "        rnn_optimizer.zero_grad()\n",
        "        outputs = rnn_model(inputs)\n",
        "        loss = criterion(outputs, labels)\n",
        "        loss.backward()\n",
        "        rnn_optimizer.step()\n",
        "        total_loss += loss.item()\n",
        "    print(f'RNN Model - Epoch {epoch+1}/{num_epochs}, Loss: {total_loss/len(train_loader):.4f}')\n",
        "\n",
        "print(\"\\nTraining complete for both models.\")"
      ],
      "execution_count": 9,
      "outputs": [
        {
          "output_type": "stream",
          "name": "stdout",
          "text": [
            "Starting training for Feedforward Model...\n",
            "Feedforward Model - Epoch 1/5, Loss: 0.6571\n",
            "Feedforward Model - Epoch 2/5, Loss: 0.3677\n",
            "Feedforward Model - Epoch 3/5, Loss: 0.1820\n",
            "Feedforward Model - Epoch 4/5, Loss: 0.1008\n",
            "Feedforward Model - Epoch 5/5, Loss: 0.0602\n",
            "\n",
            "Starting training for RNN Model...\n",
            "RNN Model - Epoch 1/5, Loss: 0.6956\n",
            "RNN Model - Epoch 2/5, Loss: 0.6891\n",
            "RNN Model - Epoch 3/5, Loss: 0.6847\n",
            "RNN Model - Epoch 4/5, Loss: 0.6900\n",
            "RNN Model - Epoch 5/5, Loss: 0.6827\n",
            "\n",
            "Training complete for both models.\n"
          ]
        }
      ]
    },
    {
      "cell_type": "markdown",
      "metadata": {
        "id": "290d7b45"
      },
      "source": [
        "## Evaluate both models\n",
        "\n",
        "### Subtask:\n",
        "Evaluate the performance of both models on the testing data.\n"
      ]
    },
    {
      "cell_type": "markdown",
      "metadata": {
        "id": "7a538f09"
      },
      "source": [
        "**Reasoning**:\n",
        "Evaluate the performance of both models on the testing data by iterating through the test loader, getting predictions, and calculating accuracy.\n",
        "\n"
      ]
    },
    {
      "cell_type": "code",
      "metadata": {
        "colab": {
          "base_uri": "https://localhost:8080/"
        },
        "id": "6c468513",
        "outputId": "592c7de2-6af6-460b-86b1-82c8ea6c83a7"
      },
      "source": [
        "from sklearn.metrics import accuracy_score\n",
        "\n",
        "# Set models to evaluation mode\n",
        "ff_model.eval()\n",
        "rnn_model.eval()\n",
        "\n",
        "# Lists to store predictions and true labels\n",
        "ff_predictions = []\n",
        "rnn_predictions = []\n",
        "true_labels = []\n",
        "\n",
        "# Disable gradient calculations\n",
        "with torch.no_grad():\n",
        "    for inputs, labels in test_loader:\n",
        "        # Feedforward model evaluation\n",
        "        ff_outputs = ff_model(inputs)\n",
        "        ff_predicted = torch.sigmoid(ff_outputs).round() # Apply sigmoid and round to get binary predictions\n",
        "        ff_predictions.extend(ff_predicted.tolist())\n",
        "        true_labels.extend(labels.tolist())\n",
        "\n",
        "        # RNN model evaluation\n",
        "        rnn_outputs = rnn_model(inputs)\n",
        "        rnn_predicted = torch.sigmoid(rnn_outputs).round() # Apply sigmoid and round to get binary predictions\n",
        "        rnn_predictions.extend(rnn_predicted.tolist())\n",
        "\n",
        "# Convert lists to tensors or numpy arrays\n",
        "ff_predictions = torch.tensor(ff_predictions).squeeze(1)\n",
        "rnn_predictions = torch.tensor(rnn_predictions).squeeze(1)\n",
        "true_labels = torch.tensor(true_labels).squeeze(1)\n",
        "\n",
        "# Calculate accuracy\n",
        "ff_accuracy = accuracy_score(true_labels, ff_predictions)\n",
        "rnn_accuracy = accuracy_score(true_labels, rnn_predictions)\n",
        "\n",
        "print(f\"Feedforward Model Accuracy: {ff_accuracy:.4f}\")\n",
        "print(f\"RNN Model Accuracy: {rnn_accuracy:.4f}\")"
      ],
      "execution_count": 10,
      "outputs": [
        {
          "output_type": "stream",
          "name": "stdout",
          "text": [
            "Feedforward Model Accuracy: 0.7905\n",
            "RNN Model Accuracy: 0.5104\n"
          ]
        }
      ]
    },
    {
      "cell_type": "markdown",
      "metadata": {
        "id": "bb281215"
      },
      "source": [
        "## Analyze and compare results\n",
        "\n",
        "### Subtask:\n",
        "Compare the performance of the two models and analyze why the RNN might perform better or worse on sequential data.\n"
      ]
    },
    {
      "cell_type": "markdown",
      "metadata": {
        "id": "0673d6c9"
      },
      "source": [
        "**Reasoning**:\n",
        "Compare the accuracy scores and discuss the performance of the two models, analyzing potential reasons for the RNN's lower performance and the feedforward model's reasonable performance on sequential data.\n",
        "\n"
      ]
    },
    {
      "cell_type": "code",
      "metadata": {
        "colab": {
          "base_uri": "https://localhost:8080/"
        },
        "id": "b5e379fa",
        "outputId": "f585d60c-8ec7-4c7b-8bb0-2930104838dc"
      },
      "source": [
        "print(f\"Feedforward Model Accuracy: {ff_accuracy:.4f}\")\n",
        "print(f\"RNN Model Accuracy: {rnn_accuracy:.4f}\")\n",
        "\n",
        "print(\"\\n--- Model Performance Analysis ---\")\n",
        "\n",
        "if ff_accuracy > rnn_accuracy:\n",
        "    print(\"The Feedforward Model performed better than the RNN Model on this sentiment classification task.\")\n",
        "elif rnn_accuracy > ff_accuracy:\n",
        "    print(\"The RNN Model performed better than the Feedforward Model on this sentiment classification task.\")\n",
        "else:\n",
        "    print(\"Both models performed similarly on this sentiment classification task.\")\n",
        "\n",
        "print(\"\\n--- Potential Reasons for RNN's Performance ---\")\n",
        "print(\"The RNN model achieved a significantly lower accuracy compared to the feedforward model.\")\n",
        "print(\"Several factors could contribute to this:\")\n",
        "print(\"1. Simple RNN Architecture: A simple RNN might struggle to capture long-range dependencies in text compared to more advanced architectures like LSTMs or GRUs.\")\n",
        "print(\"2. Lack of Hyperparameter Tuning: The current implementation used default or basic hyperparameters. Optimal learning rate, hidden dimension size, and other parameters could significantly impact performance.\")\n",
        "print(\"3. Limited Training Epochs: Training for only 5 epochs might not be sufficient for the RNN to converge and learn complex patterns in the data, especially with a simple architecture.\")\n",
        "print(\"4. Vanishing/Exploding Gradients: Simple RNNs are prone to vanishing or exploding gradients, which can hinder effective learning over longer sequences.\")\n",
        "\n",
        "print(\"\\n--- Why Feedforward Model Performed Reasonably Well ---\")\n",
        "print(\"Despite not explicitly handling the sequential nature of text, the feedforward model achieved a reasonable accuracy.\")\n",
        "print(\"This could be due to:\")\n",
        "print(\"1. Bag-of-Words like Representation: By flattening the embedded sequences, the feedforward model effectively treats the input as a bag of embedded words.\")\n",
        "print(\"2. Learning Word Associations: The model can learn to associate the presence of certain words or combinations of words (regardless of their order within the fixed sequence length) with positive or negative sentiment.\")\n",
        "print(\"3. Sufficient Data: With a large dataset (50,000 reviews), the model has enough data to learn these word-sentiment associations effectively.\")\n",
        "\n",
        "print(\"\\n--- Summary ---\")\n",
        "print(\"In this specific implementation and with the given training constraints, the feedforward model outperformed the simple RNN for sentiment classification.\")\n",
        "print(\"While RNNs are theoretically better suited for sequential data, their performance is highly dependent on the architecture, hyperparameter tuning, and sufficient training.\")\n",
        "print(\"The feedforward model's ability to learn word associations from the flattened embedded sequences, combined with a large dataset, allowed it to achieve a respectable accuracy.\")"
      ],
      "execution_count": 11,
      "outputs": [
        {
          "output_type": "stream",
          "name": "stdout",
          "text": [
            "Feedforward Model Accuracy: 0.7905\n",
            "RNN Model Accuracy: 0.5104\n",
            "\n",
            "--- Model Performance Analysis ---\n",
            "The Feedforward Model performed better than the RNN Model on this sentiment classification task.\n",
            "\n",
            "--- Potential Reasons for RNN's Performance ---\n",
            "The RNN model achieved a significantly lower accuracy compared to the feedforward model.\n",
            "Several factors could contribute to this:\n",
            "1. Simple RNN Architecture: A simple RNN might struggle to capture long-range dependencies in text compared to more advanced architectures like LSTMs or GRUs.\n",
            "2. Lack of Hyperparameter Tuning: The current implementation used default or basic hyperparameters. Optimal learning rate, hidden dimension size, and other parameters could significantly impact performance.\n",
            "3. Limited Training Epochs: Training for only 5 epochs might not be sufficient for the RNN to converge and learn complex patterns in the data, especially with a simple architecture.\n",
            "4. Vanishing/Exploding Gradients: Simple RNNs are prone to vanishing or exploding gradients, which can hinder effective learning over longer sequences.\n",
            "\n",
            "--- Why Feedforward Model Performed Reasonably Well ---\n",
            "Despite not explicitly handling the sequential nature of text, the feedforward model achieved a reasonable accuracy.\n",
            "This could be due to:\n",
            "1. Bag-of-Words like Representation: By flattening the embedded sequences, the feedforward model effectively treats the input as a bag of embedded words.\n",
            "2. Learning Word Associations: The model can learn to associate the presence of certain words or combinations of words (regardless of their order within the fixed sequence length) with positive or negative sentiment.\n",
            "3. Sufficient Data: With a large dataset (50,000 reviews), the model has enough data to learn these word-sentiment associations effectively.\n",
            "\n",
            "--- Summary ---\n",
            "In this specific implementation and with the given training constraints, the feedforward model outperformed the simple RNN for sentiment classification.\n",
            "While RNNs are theoretically better suited for sequential data, their performance is highly dependent on the architecture, hyperparameter tuning, and sufficient training.\n",
            "The feedforward model's ability to learn word associations from the flattened embedded sequences, combined with a large dataset, allowed it to achieve a respectable accuracy.\n"
          ]
        }
      ]
    },
    {
      "cell_type": "markdown",
      "metadata": {
        "id": "93bbde3f"
      },
      "source": [
        "## Summary:\n",
        "\n",
        "### Data Analysis Key Findings\n",
        "\n",
        "*   The dataset was successfully loaded, containing 50,000 movie reviews and their corresponding sentiments ('positive' or 'negative').\n",
        "*   Data preprocessing involved converting sentiment labels to numerical (1 for positive, 0 for negative), cleaning the text by removing HTML tags and punctuation, converting to lowercase, tokenizing with a vocabulary size limit of 5000, and padding sequences to a fixed length of 200.\n",
        "*   The dataset was split into training (40,000 samples) and testing (10,000 samples) sets.\n",
        "*   A vocabulary size of 168,031 was determined, and an embedding dimension of 100 was set.\n",
        "*   Both a simple Feedforward Neural Network and a simple Recurrent Neural Network (RNN) were implemented in PyTorch for binary sentiment classification.\n",
        "*   Both models were trained for 5 epochs using the BCEWithLogitsLoss criterion and the Adam optimizer.\n",
        "*   During training, the Feedforward Model's loss decreased significantly from approximately 0.657 to 0.060, indicating learning. The RNN Model's loss remained high, around 0.68 - 0.69, suggesting ineffective learning in this configuration.\n",
        "*   On the test set, the Feedforward Model achieved an accuracy of 0.7905, while the RNN Model achieved a significantly lower accuracy of 0.5104.\n",
        "\n",
        "### Insights or Next Steps\n",
        "\n",
        "*   The simple RNN architecture, lack of hyperparameter tuning, and limited training epochs likely contributed to its poor performance compared to the feedforward model. Using more advanced RNN architectures like LSTMs or GRUs, tuning hyperparameters, and training for more epochs could significantly improve the RNN's performance on this sequential data.\n",
        "*   The Feedforward Model's reasonable performance suggests that for this dataset and task, leveraging word associations through embeddings and linear layers was more effective than the simple sequential processing attempted by the basic RNN. Further analysis of the Feedforward Model's learned weights could provide insights into which word patterns are most indicative of sentiment.\n"
      ]
    }
  ]
}